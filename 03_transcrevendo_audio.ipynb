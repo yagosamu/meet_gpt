{
 "cells": [
  {
   "cell_type": "code",
   "execution_count": 4,
   "id": "15113a86",
   "metadata": {},
   "outputs": [],
   "source": [
    "import openai\n",
    "from dotenv import find_dotenv, load_dotenv\n",
    "_ = load_dotenv(find_dotenv())\n",
    "\n",
    "client = openai.OpenAI()"
   ]
  },
  {
   "cell_type": "code",
   "execution_count": 7,
   "metadata": {},
   "outputs": [],
   "source": [
    "def transcreve_audio(caminho_audio, language='pt', response_format='text'):\n",
    "    with open(caminho_audio, 'rb') as arquivo_audio:\n",
    "        transcricao = client.audio.transcriptions.create(\n",
    "            model='whisper-1',\n",
    "            language=language,\n",
    "            response_format=response_format,\n",
    "            file=arquivo_audio,\n",
    "        )\n",
    "    return transcricao"
   ]
  },
  {
   "cell_type": "code",
   "execution_count": 10,
   "metadata": {},
   "outputs": [
    {
     "data": {
      "text/plain": [
       "'computador e ele vai automaticamente fazendo a transcrição de todo o áudio que vai ocorrendo durante a reunião. Então vocês podem ver que agora daqui a pouquinho, em alguns poucos segundos, ele vai fazer a transcrição de tudo que eu falei até agora. Agora já fez aqui a transcrição.\\n'"
      ]
     },
     "execution_count": 10,
     "metadata": {},
     "output_type": "execute_result"
    }
   ],
   "source": [
    "transcreve_audio('audio.mp3', response_format='text')"
   ]
  },
  {
   "cell_type": "code",
   "execution_count": 9,
   "metadata": {},
   "outputs": [
    {
     "data": {
      "text/plain": [
       "'1\\n00:00:00,000 --> 00:00:04,280\\ncomputador e ele vai automaticamente fazendo a transcrição de todo o áudio\\n\\n2\\n00:00:04,280 --> 00:00:07,760\\nque vai ocorrendo durante a reunião. Então vocês podem ver que agora daqui a\\n\\n3\\n00:00:07,760 --> 00:00:12,000\\npouquinho, em alguns poucos segundos, ele vai fazer a transcrição de tudo que eu\\n\\n4\\n00:00:12,000 --> 00:00:18,280\\nfalei até agora. Agora já fez aqui a transcrição.\\n\\n\\n'"
      ]
     },
     "execution_count": 9,
     "metadata": {},
     "output_type": "execute_result"
    }
   ],
   "source": [
    "transcreve_audio('audio.mp3', response_format='srt')"
   ]
  },
  {
   "cell_type": "code",
   "execution_count": null,
   "metadata": {},
   "outputs": [],
   "source": []
  }
 ],
 "metadata": {
  "kernelspec": {
   "display_name": "Python 3 (ipykernel)",
   "language": "python",
   "name": "python3"
  },
  "language_info": {
   "codemirror_mode": {
    "name": "ipython",
    "version": 3
   },
   "file_extension": ".py",
   "mimetype": "text/x-python",
   "name": "python",
   "nbconvert_exporter": "python",
   "pygments_lexer": "ipython3",
   "version": "3.11.4"
  }
 },
 "nbformat": 4,
 "nbformat_minor": 5
}
